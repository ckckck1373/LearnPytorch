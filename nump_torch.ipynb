{
  "nbformat": 4,
  "nbformat_minor": 0,
  "metadata": {
    "colab": {
      "name": "nump_torch.ipynb",
      "version": "0.3.2",
      "provenance": [],
      "include_colab_link": true
    },
    "kernelspec": {
      "name": "python3",
      "display_name": "Python 3"
    }
  },
  "cells": [
    {
      "cell_type": "markdown",
      "metadata": {
        "id": "view-in-github",
        "colab_type": "text"
      },
      "source": [
        "<a href=\"https://colab.research.google.com/github/ckckck1373/LearnPytorch/blob/master/nump_torch.ipynb\" target=\"_parent\"><img src=\"https://colab.research.google.com/assets/colab-badge.svg\" alt=\"Open In Colab\"/></a>"
      ]
    },
    {
      "cell_type": "code",
      "metadata": {
        "id": "ebijlcVF90Aw",
        "colab_type": "code",
        "colab": {
          "base_uri": "https://localhost:8080/",
          "height": 138
        },
        "outputId": "78707c5b-87b8-47f5-fab9-6465da9da987"
      },
      "source": [
        "import torch\n",
        "import numpy as np\n",
        "\n",
        "np_data = np.arange(6).reshape((2, 3))\n",
        "torch_data = torch.from_numpy(np_data)\n",
        "tensor2array = torch_data.numpy()\n",
        "\n",
        "print(\n",
        "     '\\nnumpy: ', np_data,\n",
        "     '\\ntorch: ', torch_data,\n",
        "     '\\ntensor2array: ', tensor2array,\n",
        " )"
      ],
      "execution_count": 18,
      "outputs": [
        {
          "output_type": "stream",
          "text": [
            "\n",
            "numpy:  [[0 1 2]\n",
            " [3 4 5]] \n",
            "torch:  tensor([[0, 1, 2],\n",
            "        [3, 4, 5]]) \n",
            "tensor2array:  [[0 1 2]\n",
            " [3 4 5]]\n"
          ],
          "name": "stdout"
        }
      ]
    },
    {
      "cell_type": "code",
      "metadata": {
        "id": "rxBjlM1j-rRA",
        "colab_type": "code",
        "colab": {
          "base_uri": "https://localhost:8080/",
          "height": 155
        },
        "outputId": "3202e18a-d3af-4337-ad90-b0ef35754099"
      },
      "source": [
        "#abs\n",
        "data = [-1, -2, 1, 2]\n",
        "tensor = torch.FloatTensor(data) #32bit\n",
        "\n",
        "print(\n",
        "    '\\nabs',\n",
        "    '\\nnumpy: ', np.abs(data),       #[1 2 1 2]\n",
        "    '\\ntorch: ', torch.abs(tensor),  #[1 2 1 2]\n",
        "    '\\nnumpy.sin: ', np.sin(data),\n",
        "    '\\ntorch.sin: ' , torch.sin(tensor),\n",
        "    '\\nnumpy.mean: ', np.mean(data),\n",
        "    '\\ntorch.mean: ', torch.mean(tensor),\n",
        ")"
      ],
      "execution_count": 19,
      "outputs": [
        {
          "output_type": "stream",
          "text": [
            "\n",
            "abs \n",
            "numpy:  [1 2 1 2] \n",
            "torch:  tensor([1., 2., 1., 2.]) \n",
            "numpy.sin:  [-0.84147098 -0.90929743  0.84147098  0.90929743] \n",
            "torch.sin:  tensor([-0.8415, -0.9093,  0.8415,  0.9093]) \n",
            "numpy.mean:  0.0 \n",
            "torch.mean:  tensor(0.)\n"
          ],
          "name": "stdout"
        }
      ]
    },
    {
      "cell_type": "code",
      "metadata": {
        "id": "yEuhttDDANis",
        "colab_type": "code",
        "colab": {
          "base_uri": "https://localhost:8080/",
          "height": 104
        },
        "outputId": "25d70094-5806-48f2-eb17-abe70ee1daa6"
      },
      "source": [
        "data1 = [[1, 2], [3, 4]]\n",
        "tensor1 = torch.FloatTensor(data1) #32-bit floating point\n",
        "data = np.array(data) #tramsform to np data\n",
        "print(\n",
        "      '\\nnumpy: ', np.matmul(data1, data1), #=data.dot(data1)\n",
        "      '\\ntorch: ', torch.mm(tensor1, tensor1)) #tensor.dot(tensor1, tensor1)is scalar"
      ],
      "execution_count": 20,
      "outputs": [
        {
          "output_type": "stream",
          "text": [
            "\n",
            "numpy:  [[ 7 10]\n",
            " [15 22]] \n",
            "torch:  tensor([[ 7., 10.],\n",
            "        [15., 22.]])\n"
          ],
          "name": "stdout"
        }
      ]
    },
    {
      "cell_type": "markdown",
      "metadata": {
        "id": "AkTu2n3vBenN",
        "colab_type": "text"
      },
      "source": [
        ""
      ]
    },
    {
      "cell_type": "code",
      "metadata": {
        "id": "9hEBTccFAN3U",
        "colab_type": "code",
        "colab": {}
      },
      "source": [
        ""
      ],
      "execution_count": 0,
      "outputs": []
    }
  ]
}