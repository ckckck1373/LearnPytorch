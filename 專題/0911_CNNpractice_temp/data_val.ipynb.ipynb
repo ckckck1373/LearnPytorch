{
 "cells": [
  {
   "cell_type": "code",
   "execution_count": null,
   "metadata": {},
   "outputs": [],
   "source": [
    "import torch\n",
    "import torch.utils.data as data\n",
    "import os\n",
    "import skimage\n",
    "import skimage.io as sio\n",
    "\n",
    "import data_augment\n",
    "\n",
    "class datasetVal(data.Dataset):\n",
    "    def __init__(self, args):\n",
    "        self.nVal = args.nVal\n",
    "\n",
    "        self.valDir = 'image_val'\n",
    "        self.imgInPrefix = 'LR_zebra_val'\n",
    "        self.imgTarPrefix = 'HR_zebra_val'\n",
    "\n",
    "    def __getitem__(self, idx):\n",
    "        idx = (idx % self.nVal) + 1\n",
    "\n",
    "        nameIn, nameTar = self.getFileName(idx)\n",
    "        imgIn = sio.imread(nameIn)\n",
    "        imgTar = sio.imread(nameTar)\n",
    "\n",
    "        return data_augment.np2PytorchTensor(imgIn, imgTar)\n",
    "\n",
    "\n",
    "    def __len__(self):\n",
    "        return self.nVal\n",
    "\n",
    "    def getFileName(self, idx):\n",
    "        fileName = '{:0>4}'.format(idx)\n",
    "        nameIn = '{}_{}.png'.format(self.imgInPrefix, fileName)\n",
    "        nameIn = os.path.join(self.valDir, nameIn)\n",
    "        nameTar = '{}_{}.png'.format(self.imgTarPrefix, fileName)\n",
    "        nameTar = os.path.join(self.valDir, nameTar)\n",
    "\n",
    "        return nameIn, nameTar\n"
   ]
  }
 ],
 "metadata": {
  "kernelspec": {
   "display_name": "Python 3",
   "language": "python",
   "name": "python3"
  },
  "language_info": {
   "codemirror_mode": {
    "name": "ipython",
    "version": 3
   },
   "file_extension": ".py",
   "mimetype": "text/x-python",
   "name": "python",
   "nbconvert_exporter": "python",
   "pygments_lexer": "ipython3",
   "version": "3.6.5"
  }
 },
 "nbformat": 4,
 "nbformat_minor": 2
}
