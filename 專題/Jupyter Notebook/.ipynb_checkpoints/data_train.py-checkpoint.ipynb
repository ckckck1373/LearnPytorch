{
 "cells": [
  {
   "cell_type": "code",
   "execution_count": null,
   "metadata": {},
   "outputs": [],
   "source": [
    "import torch\n",
    "import torch.utils.data as data\n",
    "import os\n",
    "import skimage\n",
    "import skimage.io as sio\n",
    "\n",
    "import data_augment\n",
    "\n",
    "class datasetTrain(data.Dataset):\n",
    "    def __init__(self, args):\n",
    "        self.patchSize = args.patchSize\n",
    "        self.epochSize = args.epochSize\n",
    "        self.batchSize = args.batchSize\n",
    "        self.nTrain = args.nTrain\n",
    "\n",
    "        self.trainDir = 'image_train'\n",
    "        self.imgInPrefix = 'LR_zebra_train'\n",
    "        self.imgTarPrefix = 'HR_zebra_train'\n",
    "\n",
    "    def __getitem__(self, idx):\n",
    "        idx = (idx % self.nTrain) + 1\n",
    "\n",
    "        nameIn, nameTar = self.getFileName(idx)\n",
    "        imgIn = sio.imread(nameIn)\n",
    "        imgTar = sio.imread(nameTar)\n",
    " \n",
    "        imgIn, imgTar = data_augment.randomCrop(imgIn, imgTar, self.patchSize)\n",
    "        imgIn, imgTar = data_augment.augment(imgIn, imgTar)\n",
    "\n",
    "        return data_augment.np2PytorchTensor(imgIn, imgTar)\n",
    "\n",
    "\n",
    "    def __len__(self):\n",
    "        return self.epochSize*self.batchSize\n",
    "\n",
    "    def getFileName(self, idx):\n",
    "        fileName = '{:0>4}'.format(idx)\n",
    "        nameIn = '{}_{}.png'.format(self.imgInPrefix, fileName)\n",
    "        nameIn = os.path.join(self.trainDir, nameIn)\n",
    "        nameTar = '{}_{}.png'.format(self.imgTarPrefix, fileName)\n",
    "        nameTar = os.path.join(self.trainDir, nameTar)\n",
    "\n",
    "        return nameIn, nameTar\n",
    "\n"
   ]
  }
 ],
 "metadata": {
  "kernelspec": {
   "display_name": "Python 3",
   "language": "python",
   "name": "python3"
  },
  "language_info": {
   "codemirror_mode": {
    "name": "ipython",
    "version": 3
   },
   "file_extension": ".py",
   "mimetype": "text/x-python",
   "name": "python",
   "nbconvert_exporter": "python",
   "pygments_lexer": "ipython3",
   "version": "3.6.5"
  }
 },
 "nbformat": 4,
 "nbformat_minor": 2
}
