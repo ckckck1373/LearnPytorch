{
 "cells": [
  {
   "cell_type": "code",
   "execution_count": null,
   "metadata": {},
   "outputs": [],
   "source": [
    "import random\n",
    "import torch\n",
    "\n",
    "def randomCrop(imgIn, imgTar, patchSize, scale=4):\n",
    "    (ih, iw, c) = imgIn.shape\n",
    "    (th, tw) = (scale * ih, scale * iw)\n",
    "\n",
    "    tp = patchSize\n",
    "    ip = tp // scale\n",
    "\n",
    "    ix = random.randrange(0, iw - ip + 1)\n",
    "    iy = random.randrange(0, ih - ip + 1)\n",
    "    (tx, ty) = (scale * ix, scale * iy)\n",
    "    imgIn = imgIn[iy:iy + ip, ix:ix + ip, :]\n",
    "    imgTar = imgTar[ty:ty + tp, tx:tx + tp, :]\n",
    "\n",
    "    return imgIn, imgTar\n",
    "\n",
    "def np2PytorchTensor(imgIn, imgTar):\n",
    "    ts = (2, 0, 1)\n",
    "    imgIn = torch.Tensor(imgIn.transpose(ts).astype(float))\n",
    "    imgTar = torch.Tensor(imgTar.transpose(ts).astype(float))\n",
    "\n",
    "    return imgIn, imgTar\n",
    "\n",
    "def augment(imgIn, imgTar, flip=True, rotation=True):\n",
    "    if random.random() < 0.5 and flip:\n",
    "        imgIn = imgIn[:, ::-1, :]\n",
    "        imgTar = imgTar[:, ::-1, :]\n",
    "\n",
    "    if rotation:\n",
    "        if random.random() < 0.5:\n",
    "            imgIn = imgIn[::-1, :, :]\n",
    "            imgTar = imgTar[::-1, :, :]\n",
    "        if random.random() < 0.5:\n",
    "            imgIn = imgIn.transpose(1, 0, 2)\n",
    "            imgTar = imgTar.transpose(1, 0, 2)\n",
    "\n",
    "    return imgIn, imgTar\n",
    "\n"
   ]
  }
 ],
 "metadata": {
  "kernelspec": {
   "display_name": "Python 3",
   "language": "python",
   "name": "python3"
  },
  "language_info": {
   "codemirror_mode": {
    "name": "ipython",
    "version": 3
   },
   "file_extension": ".py",
   "mimetype": "text/x-python",
   "name": "python",
   "nbconvert_exporter": "python",
   "pygments_lexer": "ipython3",
   "version": "3.6.5"
  }
 },
 "nbformat": 4,
 "nbformat_minor": 2
}
