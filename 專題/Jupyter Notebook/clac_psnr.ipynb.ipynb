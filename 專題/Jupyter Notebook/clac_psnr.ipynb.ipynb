{
 "cells": [
  {
   "cell_type": "code",
   "execution_count": null,
   "metadata": {},
   "outputs": [],
   "source": [
    "import numpy as np\n",
    "\n",
    "def calc_psnr(img_x, img_y, max_val=1.0,border_ignore=4):\n",
    "    if border_ignore <= 0:\n",
    "        se = np.square(img_x - img_y)\n",
    "    else:\n",
    "        se = np.square(img_x[border_ignore:-1-border_ignore+1,border_ignore:-1-border_ignore+1,:] \\ \n",
    "          - img_y[border_ignore:-1-border_ignore+1,border_ignore:-1-border_ignore+1,:])\n",
    "    mse = np.mean(se)\n",
    "    psnr = 10*np.log10(max_val*max_val/mse)\n",
    "    return psnr\n",
    "\n"
   ]
  }
 ],
 "metadata": {
  "kernelspec": {
   "display_name": "Python 3",
   "language": "python",
   "name": "python3"
  },
  "language_info": {
   "codemirror_mode": {
    "name": "ipython",
    "version": 3
   },
   "file_extension": ".py",
   "mimetype": "text/x-python",
   "name": "python",
   "nbconvert_exporter": "python",
   "pygments_lexer": "ipython3",
   "version": "3.6.5"
  }
 },
 "nbformat": 4,
 "nbformat_minor": 2
}
