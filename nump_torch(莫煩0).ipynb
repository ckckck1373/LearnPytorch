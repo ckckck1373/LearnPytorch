{
  "nbformat": 4,
  "nbformat_minor": 0,
  "metadata": {
    "colab": {
      "name": "nump_torch(莫煩0).ipynb",
      "version": "0.3.2",
      "provenance": [],
      "include_colab_link": true
    },
    "kernelspec": {
      "name": "python3",
      "display_name": "Python 3"
    }
  },
  "cells": [
    {
      "cell_type": "markdown",
      "metadata": {
        "id": "view-in-github",
        "colab_type": "text"
      },
      "source": [
        "<a href=\"https://colab.research.google.com/github/ckckck1373/LearnPytorch/blob/master/nump_torch(%E8%8E%AB%E7%85%A90).ipynb\" target=\"_parent\"><img src=\"https://colab.research.google.com/assets/colab-badge.svg\" alt=\"Open In Colab\"/></a>"
      ]
    },
    {
      "cell_type": "code",
      "metadata": {
        "id": "ebijlcVF90Aw",
        "colab_type": "code",
        "colab": {
          "base_uri": "https://localhost:8080/",
          "height": 138
        },
        "outputId": "78707c5b-87b8-47f5-fab9-6465da9da987"
      },
      "source": [
        "import torch\n",
        "import numpy as np\n",
        "\n",
        "np_data = np.arange(6).reshape((2, 3))\n",
        "torch_data = torch.from_numpy(np_data)\n",
        "tensor2array = torch_data.numpy()\n",
        "\n",
        "print(\n",
        "     '\\nnumpy: ', np_data,\n",
        "     '\\ntorch: ', torch_data,\n",
        "     '\\ntensor2array: ', tensor2array,\n",
        " )"
      ],
      "execution_count": 18,
      "outputs": [
        {
          "output_type": "stream",
          "text": [
            "\n",
            "numpy:  [[0 1 2]\n",
            " [3 4 5]] \n",
            "torch:  tensor([[0, 1, 2],\n",
            "        [3, 4, 5]]) \n",
            "tensor2array:  [[0 1 2]\n",
            " [3 4 5]]\n"
          ],
          "name": "stdout"
        }
      ]
    },
    {
      "cell_type": "code",
      "metadata": {
        "id": "rxBjlM1j-rRA",
        "colab_type": "code",
        "colab": {
          "base_uri": "https://localhost:8080/",
          "height": 155
        },
        "outputId": "3202e18a-d3af-4337-ad90-b0ef35754099"
      },
      "source": [
        "#abs\n",
        "data = [-1, -2, 1, 2]\n",
        "tensor = torch.FloatTensor(data) #32bit\n",
        "\n",
        "print(\n",
        "    '\\nabs',\n",
        "    '\\nnumpy: ', np.abs(data),       #[1 2 1 2]\n",
        "    '\\ntorch: ', torch.abs(tensor),  #[1 2 1 2]\n",
        "    '\\nnumpy.sin: ', np.sin(data),\n",
        "    '\\ntorch.sin: ' , torch.sin(tensor),\n",
        "    '\\nnumpy.mean: ', np.mean(data),\n",
        "    '\\ntorch.mean: ', torch.mean(tensor),\n",
        ")"
      ],
      "execution_count": 19,
      "outputs": [
        {
          "output_type": "stream",
          "text": [
            "\n",
            "abs \n",
            "numpy:  [1 2 1 2] \n",
            "torch:  tensor([1., 2., 1., 2.]) \n",
            "numpy.sin:  [-0.84147098 -0.90929743  0.84147098  0.90929743] \n",
            "torch.sin:  tensor([-0.8415, -0.9093,  0.8415,  0.9093]) \n",
            "numpy.mean:  0.0 \n",
            "torch.mean:  tensor(0.)\n"
          ],
          "name": "stdout"
        }
      ]
    },
    {
      "cell_type": "code",
      "metadata": {
        "id": "yEuhttDDANis",
        "colab_type": "code",
        "colab": {
          "base_uri": "https://localhost:8080/",
          "height": 104
        },
        "outputId": "25d70094-5806-48f2-eb17-abe70ee1daa6"
      },
      "source": [
        "data1 = [[1, 2], [3, 4]]\n",
        "tensor1 = torch.FloatTensor(data1) #32-bit floating point\n",
        "data = np.array(data) #tramsform to np data\n",
        "print(\n",
        "      '\\nnumpy: ', np.matmul(data1, data1), #=data.dot(data1)\n",
        "      '\\ntorch: ', torch.mm(tensor1, tensor1)) #tensor.dot(tensor1, tensor1)is scalar"
      ],
      "execution_count": 20,
      "outputs": [
        {
          "output_type": "stream",
          "text": [
            "\n",
            "numpy:  [[ 7 10]\n",
            " [15 22]] \n",
            "torch:  tensor([[ 7., 10.],\n",
            "        [15., 22.]])\n"
          ],
          "name": "stdout"
        }
      ]
    },
    {
      "cell_type": "markdown",
      "metadata": {
        "id": "AkTu2n3vBenN",
        "colab_type": "text"
      },
      "source": [
        ""
      ]
    },
    {
      "cell_type": "code",
      "metadata": {
        "id": "9hEBTccFAN3U",
        "colab_type": "code",
        "colab": {
          "base_uri": "https://localhost:8080/",
          "height": 276
        },
        "outputId": "acb80e4c-af4d-4647-e06c-1e03fa919217"
      },
      "source": [
        "#2-2 variable 變換成variable之後才可以反向傳遞\n",
        "import torch\n",
        "from torch.autograd import Variable\n",
        "\n",
        "tensor2 = torch.FloatTensor([[1, 2],[3, 4]])\n",
        "variable = Variable(tensor2, requires_grad= True)#想像tensor是雞蛋;variable是籃子，計算的時候會透過variable計算時記錄路線\n",
        "\n",
        "print(tensor2)\n",
        "print(variable)#包含variable containing\n",
        "\n",
        "t_out = torch.mean(tensor2*tensor2) #x^2\n",
        "v_out = torch.mean(variable*variable)\n",
        "\n",
        "print(t_out)\n",
        "print(v_out)\n",
        "\n",
        "v_out.backward()#誤差的反向傳遞\n",
        "\n",
        "# v_out = 1/4*sum(variable* variable)\n",
        "# d(v_out)/d(variable) = 1/4* 2* variable = variable/ 2\n",
        "print('\\nvariable_grad: ',variable.grad)\n",
        "\n",
        "\n",
        "\n",
        "print('\\nvariable_data: ',variable.data) #查看variable裡面有哪些data\n",
        "print('\\nvariable_numpy: ',variable.data.numpy())#轉換成numpy array from variable，"
      ],
      "execution_count": 36,
      "outputs": [
        {
          "output_type": "stream",
          "text": [
            "tensor([[1., 2.],\n",
            "        [3., 4.]])\n",
            "tensor([[1., 2.],\n",
            "        [3., 4.]], requires_grad=True)\n",
            "tensor(7.5000)\n",
            "tensor(7.5000, grad_fn=<MeanBackward0>)\n",
            "\n",
            "variable_grad:  tensor([[0.5000, 1.0000],\n",
            "        [1.5000, 2.0000]])\n",
            "\n",
            "variable_data:  tensor([[1., 2.],\n",
            "        [3., 4.]])\n",
            "\n",
            "variable_numpy:  [[1. 2.]\n",
            " [3. 4.]]\n"
          ],
          "name": "stdout"
        }
      ]
    },
    {
      "cell_type": "markdown",
      "metadata": {
        "id": "DeSJNaTFFegY",
        "colab_type": "text"
      },
      "source": [
        "\n",
        "###Q: 為什要激勵函數? <br>\n",
        "Ans: 為了達成非線性的目的 <br>\n",
        "\n",
        "y = AF(Wx) <br>\n",
        "AF就是非線性函數，用來掰彎線型函數<br>\n",
        "\n",
        "####Ex: relu, sigmoid, tanh等非線性函數(要可以微分，因為要反向傳遞)\n",
        "* 通常在CNN用 *relu* ; 在RNN用 *relu or tanh*\n",
        "* *relu* 可以讓小於零的部分全部變成零\n",
        "* *sigmoid* 讓大數變小"
      ]
    },
    {
      "cell_type": "code",
      "metadata": {
        "id": "-bEDB8YGH9_e",
        "colab_type": "code",
        "colab": {
          "base_uri": "https://localhost:8080/",
          "height": 376
        },
        "outputId": "1d7b7a5f-6d20-47b8-80f6-fb9302913cc3"
      },
      "source": [
        "import torch\n",
        "import torch.nn.functional as F\n",
        "from torch.autograd import Variable\n",
        "import matplotlib.pyplot as plt\n",
        "\n",
        "#fake data\n",
        "x = torch.linspace(-5, 5, 200)  #x data (tensor), shape = (100,1)\n",
        "                                #-5到5之間取200個點\n",
        "x = Variable(x)\n",
        "x_np = x.data.numpy()#要畫圖的時候還是要轉換成numpy的形式(from torch)\n",
        "\n",
        "y_relu = F.relu(x).data.numpy()\n",
        "y_sigmoid = F.sigmoid(x).data.numpy()\n",
        "y_tanh = F.tanh(x).data.numpy()\n",
        "y_softplus = F.softplus(x).data.numpy()\n",
        "# y_softmax = F.softmax(x) 是用來做概率的圖(不是上述線性類型)\n",
        "\n",
        "\n",
        "plt.subplot(221)\n",
        "plt.plot(x_np, y_relu, c='red', label='relu')\n",
        "plt.ylim((-1, 5))\n",
        "plt.legend(loc='best') #legend 是圖例\n",
        "\n",
        "plt.subplot(222)\n",
        "plt.plot(x_np, y_sigmoid, c='red', label='sigmoid')\n",
        "plt.ylim((-0.2, 1.2))\n",
        "plt.legend(loc='best')\n",
        "\n",
        "plt.subplot(223)\n",
        "plt.plot(x_np, y_tanh, c='red', label='tanh')\n",
        "plt.ylim((-1.2, 1.2))\n",
        "plt.legend(loc='best')\n",
        "\n",
        "plt.subplot(224)\n",
        "plt.plot(x_np, y_softplus, c='red', label='softplus')\n",
        "plt.ylim((-0.2, 6))\n",
        "plt.legend(loc='best')"
      ],
      "execution_count": 41,
      "outputs": [
        {
          "output_type": "stream",
          "text": [
            "/usr/local/lib/python3.6/dist-packages/torch/nn/functional.py:1386: UserWarning: nn.functional.sigmoid is deprecated. Use torch.sigmoid instead.\n",
            "  warnings.warn(\"nn.functional.sigmoid is deprecated. Use torch.sigmoid instead.\")\n",
            "/usr/local/lib/python3.6/dist-packages/torch/nn/functional.py:1374: UserWarning: nn.functional.tanh is deprecated. Use torch.tanh instead.\n",
            "  warnings.warn(\"nn.functional.tanh is deprecated. Use torch.tanh instead.\")\n"
          ],
          "name": "stderr"
        },
        {
          "output_type": "execute_result",
          "data": {
            "text/plain": [
              "<matplotlib.legend.Legend at 0x7f7ef6d75320>"
            ]
          },
          "metadata": {
            "tags": []
          },
          "execution_count": 41
        },
        {
          "output_type": "display_data",
          "data": {
            "image/png": "[encoded data removed]",
            "text/plain": [
              "<Figure size 432x288 with 4 Axes>"
            ]
          },
          "metadata": {
            "tags": []
          }
        }
      ]
    },
    {
      "cell_type": "code",
      "metadata": {
        "id": "gfKdYKabJT_e",
        "colab_type": "code",
        "colab": {}
      },
      "source": [
        ""
      ],
      "execution_count": 0,
      "outputs": []
    }
  ]
}