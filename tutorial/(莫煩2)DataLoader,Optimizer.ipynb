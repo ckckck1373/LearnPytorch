{
  "nbformat": 4,
  "nbformat_minor": 0,
  "metadata": {
    "colab": {
      "name": "(莫煩2)DataLoader,Optimizer.ipynb",
      "version": "0.3.2",
      "provenance": [],
      "include_colab_link": true
    },
    "kernelspec": {
      "name": "python3",
      "display_name": "Python 3"
    }
  },
  "cells": [
    {
      "cell_type": "markdown",
      "metadata": {
        "id": "view-in-github",
        "colab_type": "text"
      },
      "source": [
        "<a href=\"https://colab.research.google.com/github/ckckck1373/LearnPytorch/blob/master/(%E8%8E%AB%E7%85%A92)DataLoader%2COptimizer.ipynb\" target=\"_parent\"><img src=\"https://colab.research.google.com/assets/colab-badge.svg\" alt=\"Open In Colab\"/></a>"
      ]
    },
    {
      "cell_type": "markdown",
      "metadata": {
        "id": "lOcwoWDyxCCX",
        "colab_type": "text"
      },
      "source": [
        "\n",
        "\n",
        "```\n",
        "# 小批訓練 DataLoader\n",
        "     可以有效地迭代數據（要轉成tensor)\n",
        "```\n",
        "\n"
      ]
    },
    {
      "cell_type": "code",
      "metadata": {
        "id": "Tbft7o31xQ5a",
        "colab_type": "code",
        "colab": {
          "base_uri": "https://localhost:8080/",
          "height": 159
        },
        "outputId": "8af75c80-f3b1-4667-c1b6-c795e65ca41d"
      },
      "source": [
        "import torch\n",
        "import torch.utils.data as Data\n",
        "\n",
        "BATCH_SIZE = 5\n",
        "\n",
        "x = torch.linspace(1, 10, 10) #this is x data (torch tensor)\n",
        "y = torch.linspace(10, 1, 10) #this is y data (torch tensor)\n",
        "\n",
        "#先轉換成 torch 能識別的 Dataset\n",
        "torch_dataset = Data.TensorDataset(x, y)\n",
        "\n",
        "#把 dataset 放入DataLoader\n",
        "loader = Data.DataLoader(\n",
        "    dataset = torch_dataset,   #torch TensorDataset format\n",
        "    batch_size = BATCH_SIZE,   #mini batch size\n",
        "    shuffle = True,            #要不要打亂數據（打亂比較好）\n",
        "    num_workers= 2,            #多線程來讀數據（thread)\n",
        ")\n",
        "\n",
        "for epoch in range(3): #訓練所有整套數據3次\n",
        "  for step, (batch_x, batch_y) in enumerate(loader): #每一步loader釋放一小批數據用來學習\n",
        "    # training part...\n",
        "    \n",
        "    print('Epoch', epoch, '| Step', step, '| batch x', batch_x.numpy(), '| batch y:', batch_y.numpy())"
      ],
      "execution_count": 7,
      "outputs": [
        {
          "output_type": "stream",
          "text": [
            "Epoch 0 | Step 0 | batch x [ 5. 10.  9.  4.  1.] | batch y: [ 6.  1.  2.  7. 10.]\n",
            "Epoch 0 | Step 1 | batch x [6. 7. 3. 2. 8.] | batch y: [5. 4. 8. 9. 3.]\n",
            "Epoch 1 | Step 0 | batch x [ 6.  8.  5. 10.  7.] | batch y: [5. 3. 6. 1. 4.]\n",
            "Epoch 1 | Step 1 | batch x [2. 1. 9. 3. 4.] | batch y: [ 9. 10.  2.  8.  7.]\n",
            "Epoch 2 | Step 0 | batch x [ 3. 10.  1.  2.  9.] | batch y: [ 8.  1. 10.  9.  2.]\n",
            "Epoch 2 | Step 1 | batch x [8. 6. 7. 5. 4.] | batch y: [3. 5. 4. 6. 7.]\n"
          ],
          "name": "stdout"
        }
      ]
    },
    {
      "cell_type": "code",
      "metadata": {
        "id": "0lUK4enn6mHA",
        "colab_type": "code",
        "colab": {}
      },
      "source": [
        ""
      ],
      "execution_count": 0,
      "outputs": []
    },
    {
      "cell_type": "markdown",
      "metadata": {
        "id": "zmdOHSKp6uHS",
        "colab_type": "text"
      },
      "source": [
        "加速神經網路訓練（Speed Up training）\n",
        "  *Stochastic Gradient Descent(SGD)\n"
      ]
    },
    {
      "cell_type": "markdown",
      "metadata": {
        "id": "k7CR3Nn8xbdL",
        "colab_type": "text"
      },
      "source": [
        ""
      ]
    }
  ]
}