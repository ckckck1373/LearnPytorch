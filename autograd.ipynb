{
  "nbformat": 4,
  "nbformat_minor": 0,
  "metadata": {
    "kernelspec": {
      "display_name": "Python 3",
      "language": "python",
      "name": "python3"
    },
    "language_info": {
      "codemirror_mode": {
        "name": "ipython",
        "version": 3
      },
      "file_extension": ".py",
      "mimetype": "text/x-python",
      "name": "python",
      "nbconvert_exporter": "python",
      "pygments_lexer": "ipython3",
      "version": "3.6.2"
    },
    "colab": {
      "name": "autograd.ipynb",
      "version": "0.3.2",
      "provenance": [],
      "include_colab_link": true
    }
  },
  "cells": [
    {
      "cell_type": "markdown",
      "metadata": {
        "id": "view-in-github",
        "colab_type": "text"
      },
      "source": [
        "<a href=\"https://colab.research.google.com/github/ckckck1373/LearnPytorch/blob/master/autograd.ipynb\" target=\"_parent\"><img src=\"https://colab.research.google.com/assets/colab-badge.svg\" alt=\"Open In Colab\"/></a>"
      ]
    },
    {
      "cell_type": "markdown",
      "metadata": {
        "id": "P7rJAMEk6ZKn",
        "colab_type": "text"
      },
      "source": [
        "Autograd: automatic differentiation\n",
        "====================\n",
        "Central to all neural networks in PyTorch is the autograd package. Let’s first briefly visit this, and we will then go to training our first neural network.\n",
        "\n",
        "The autograd package provides automatic differentiation for all operations on Tensors. It is a define-by-run framework, which means that your backprop is defined by how your code is run, and that every single iteration can be different.\n",
        "\n",
        "Let us see this in more simple terms with some examples.\n",
        "\n"
      ]
    },
    {
      "cell_type": "markdown",
      "metadata": {
        "id": "gfrMNkk2J-86",
        "colab_type": "text"
      },
      "source": [
        ""
      ]
    },
    {
      "cell_type": "code",
      "metadata": {
        "colab_type": "code",
        "id": "BWiscbimKAn0",
        "colab": {}
      },
      "source": [
        "import torch\n",
        "from torch.autograd import Variable\n"
      ],
      "execution_count": 0,
      "outputs": []
    },
    {
      "cell_type": "markdown",
      "metadata": {
        "id": "Niivj1f_6ZKr",
        "colab_type": "text"
      },
      "source": [
        "Variable is a significant package in the torch.autograd,  If you set its attribute **.requires_grad** as **True**, it starts to track all operations on it. When you finish your computation you can call **.backward()** and have all the gradients computed automatically. The gradient for this tensor will be accumulated into **.grad** attribute.\n",
        "\n",
        "\n",
        "## Construct a simple model\n",
        "\n",
        "First create a tensor and set **requires_grad=True** to track computation with it."
      ]
    },
    {
      "cell_type": "code",
      "metadata": {
        "id": "iLlCygRU6ZKs",
        "colab_type": "code",
        "colab": {},
        "outputId": "7b28ae98-dc31-4059-ed5c-8980dc94dfbf"
      },
      "source": [
        "x_data = torch.ones(2,2)\n",
        "x = Variable(x_data, requires_grad=True)\n",
        "print(x)\n",
        "print(x.grad)"
      ],
      "execution_count": 0,
      "outputs": [
        {
          "output_type": "stream",
          "text": [
            "Variable containing:\n",
            " 1  1\n",
            " 1  1\n",
            "[torch.FloatTensor of size 2x2]\n",
            "\n",
            "None\n"
          ],
          "name": "stdout"
        }
      ]
    },
    {
      "cell_type": "markdown",
      "metadata": {
        "id": "5YKYU_ok6ZKv",
        "colab_type": "text"
      },
      "source": [
        "However, torch.autograd.Variable and torch.tensor have been merged in the new version **0.4.0**.\n",
        "\n",
        "- Old version 0.3.0\n",
        "\n",
        "> x_data = torch.ones(2, 2)\n",
        "> \n",
        "> x = Variable(x_data, requires_grad=True)\n",
        "\n",
        "- New version 0.4.0\n",
        "\n",
        "> x_data = torch.ones(2, 2, requires_grad=True)\n"
      ]
    },
    {
      "cell_type": "code",
      "metadata": {
        "id": "utA13PSH6ZKw",
        "colab_type": "code",
        "colab": {},
        "outputId": "b0c8a90a-137a-4bef-e1c1-18cc1f76752c"
      },
      "source": [
        " \n",
        "y = x\n",
        "print(y)\n",
        "print(y.grad)\n",
        "print(y.requires_grad)\n"
      ],
      "execution_count": 0,
      "outputs": [
        {
          "output_type": "stream",
          "text": [
            "Variable containing:\n",
            " 1  1\n",
            " 1  1\n",
            "[torch.FloatTensor of size 2x2]\n",
            "\n",
            "None\n",
            "True\n"
          ],
          "name": "stdout"
        }
      ]
    },
    {
      "cell_type": "code",
      "metadata": {
        "id": "dB7_i-nL6ZKz",
        "colab_type": "code",
        "colab": {},
        "outputId": "b3c0636b-6560-4a9d-8425-55eaa8b7cf53"
      },
      "source": [
        "z = y * y * 3\n",
        "print(z)"
      ],
      "execution_count": 0,
      "outputs": [
        {
          "output_type": "stream",
          "text": [
            "Variable containing:\n",
            " 3  3\n",
            " 3  3\n",
            "[torch.FloatTensor of size 2x2]\n",
            "\n"
          ],
          "name": "stdout"
        }
      ]
    },
    {
      "cell_type": "code",
      "metadata": {
        "id": "KVVaHbgw6ZK1",
        "colab_type": "code",
        "colab": {},
        "outputId": "f006e9e2-61e3-437e-8148-6f36e2edfeab"
      },
      "source": [
        "out = z.mean()\n",
        "print(out)"
      ],
      "execution_count": 0,
      "outputs": [
        {
          "output_type": "stream",
          "text": [
            "Variable containing:\n",
            " 3\n",
            "[torch.FloatTensor of size 1]\n",
            "\n"
          ],
          "name": "stdout"
        }
      ]
    },
    {
      "cell_type": "markdown",
      "metadata": {
        "id": "AQGgm5tI6ZK5",
        "colab_type": "text"
      },
      "source": [
        "## Gradients\n",
        "Let’s backprop now. You just need to use **.backward()**, then you can get the gradient of all parameters. "
      ]
    },
    {
      "cell_type": "code",
      "metadata": {
        "id": "TJjAFRL96ZK6",
        "colab_type": "code",
        "colab": {}
      },
      "source": [
        "out.backward()"
      ],
      "execution_count": 0,
      "outputs": []
    },
    {
      "cell_type": "markdown",
      "metadata": {
        "id": "ZagcGAJR6ZK9",
        "colab_type": "text"
      },
      "source": [
        "print gradients d(out)/dx"
      ]
    },
    {
      "cell_type": "code",
      "metadata": {
        "id": "O0RqizVr6ZK-",
        "colab_type": "code",
        "colab": {},
        "outputId": "9ffc092c-b30d-4a27-c056-9b45b142cc9f"
      },
      "source": [
        "print(x.grad)\n",
        "print(y.grad)\n",
        "print(z.grad)\n"
      ],
      "execution_count": 0,
      "outputs": [
        {
          "output_type": "stream",
          "text": [
            "Variable containing:\n",
            " 1.5000  1.5000\n",
            " 1.5000  1.5000\n",
            "[torch.FloatTensor of size 2x2]\n",
            "\n",
            "Variable containing:\n",
            " 1.5000  1.5000\n",
            " 1.5000  1.5000\n",
            "[torch.FloatTensor of size 2x2]\n",
            "\n",
            "None\n"
          ],
          "name": "stdout"
        }
      ]
    },
    {
      "cell_type": "markdown",
      "metadata": {
        "id": "e27SZscU6ZLB",
        "colab_type": "text"
      },
      "source": [
        "You should have got a matrix of *4.5*. Let’s call the out Tensor “o”. \n",
        "We have that \n",
        "$$o=\\frac{1}{4}\\sum_i z_i , $$\n",
        "$$z_i = 3(x_i + 2)^2 , $$\n",
        "\n",
        "$$z_i \\mid _{x_i=1} = 27 , $$\n",
        "\n",
        "$$\\frac{\\partial_o}{\\partial_{x_i}}= \\frac{3}{2}(x_i+2), Hence$$\n",
        "$$ \\frac{\\partial_o}{\\partial_{x_i}}\\mid_{x_i=1}=\\frac{9}{2}=4.5$$\n"
      ]
    },
    {
      "cell_type": "markdown",
      "metadata": {
        "id": "IhRWSzU86ZLC",
        "colab_type": "text"
      },
      "source": [
        "We can do more with autograd!!!!!"
      ]
    },
    {
      "cell_type": "code",
      "metadata": {
        "id": "cl_5Y64S6ZLD",
        "colab_type": "code",
        "colab": {}
      },
      "source": [
        ""
      ],
      "execution_count": 0,
      "outputs": []
    },
    {
      "cell_type": "code",
      "metadata": {
        "id": "t3WnFpKm6ZLG",
        "colab_type": "code",
        "colab": {}
      },
      "source": [
        ""
      ],
      "execution_count": 0,
      "outputs": []
    },
    {
      "cell_type": "code",
      "metadata": {
        "id": "L1GI-5pJ6ZLJ",
        "colab_type": "code",
        "colab": {}
      },
      "source": [
        ""
      ],
      "execution_count": 0,
      "outputs": []
    }
  ]
}